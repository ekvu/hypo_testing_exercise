{
 "cells": [
  {
   "cell_type": "markdown",
   "metadata": {},
   "source": [
    "# Hypothesis Testing Exercise"
   ]
  },
  {
   "cell_type": "markdown",
   "metadata": {},
   "source": [
    "In pairs, take 15 minutes to work through Checkpoint 1"
   ]
  },
  {
   "cell_type": "markdown",
   "metadata": {},
   "source": [
    "## Imports"
   ]
  },
  {
   "cell_type": "code",
   "execution_count": 1,
   "metadata": {},
   "outputs": [],
   "source": [
    "#data manip\n",
    "import pandas as pd\n",
    "import numpy as np\n",
    "\n",
    "#data calc\n",
    "from scipy import stats\n",
    "\n",
    "#used for tests\n",
    "from test_background import pkl_dump, run_test_dict, run_test\n",
    "from test_background import load_test_dict as load"
   ]
  },
  {
   "cell_type": "code",
   "execution_count": 2,
   "metadata": {},
   "outputs": [
    {
     "name": "stdout",
     "output_type": "stream",
     "text": [
      "__pycache__\n",
      "data\n",
      "index.ipynb\n",
      "test_background.py\n",
      "test_objects\n",
      "viz\n"
     ]
    }
   ],
   "source": [
    "! ls"
   ]
  },
  {
   "cell_type": "markdown",
   "metadata": {},
   "source": [
    "#### Read in `data.csv` from `data` and print a random sample of five rows.  (Looking at a random sample of five rows instead of `df.head()` avoids the problem of getting an impression of a dataset that is sorted in some way)\n"
   ]
  },
  {
   "cell_type": "code",
   "execution_count": 3,
   "metadata": {},
   "outputs": [
    {
     "data": {
      "text/html": [
       "<div>\n",
       "<style scoped>\n",
       "    .dataframe tbody tr th:only-of-type {\n",
       "        vertical-align: middle;\n",
       "    }\n",
       "\n",
       "    .dataframe tbody tr th {\n",
       "        vertical-align: top;\n",
       "    }\n",
       "\n",
       "    .dataframe thead th {\n",
       "        text-align: right;\n",
       "    }\n",
       "</style>\n",
       "<table border=\"1\" class=\"dataframe\">\n",
       "  <thead>\n",
       "    <tr style=\"text-align: right;\">\n",
       "      <th></th>\n",
       "      <th>department</th>\n",
       "      <th>last_name</th>\n",
       "      <th>first_name</th>\n",
       "      <th>job_title</th>\n",
       "      <th>hourly_rate</th>\n",
       "    </tr>\n",
       "  </thead>\n",
       "  <tbody>\n",
       "    <tr>\n",
       "      <th>7293</th>\n",
       "      <td>Parks &amp; Recreation</td>\n",
       "      <td>Melashu</td>\n",
       "      <td>Dagmawi</td>\n",
       "      <td>Res Aide *</td>\n",
       "      <td>22.07</td>\n",
       "    </tr>\n",
       "    <tr>\n",
       "      <th>4150</th>\n",
       "      <td>Seattle Dept of Transportation</td>\n",
       "      <td>Greene</td>\n",
       "      <td>Shayne</td>\n",
       "      <td>Signal Elctn,Journey-Level</td>\n",
       "      <td>53.02</td>\n",
       "    </tr>\n",
       "    <tr>\n",
       "      <th>11209</th>\n",
       "      <td>Police Department</td>\n",
       "      <td>Verhaar</td>\n",
       "      <td>Peter</td>\n",
       "      <td>Pol Sgt-Patrl</td>\n",
       "      <td>70.92</td>\n",
       "    </tr>\n",
       "    <tr>\n",
       "      <th>7771</th>\n",
       "      <td>Police Department</td>\n",
       "      <td>Murphy</td>\n",
       "      <td>Oliver</td>\n",
       "      <td>Pol Ofcr-BWV</td>\n",
       "      <td>47.69</td>\n",
       "    </tr>\n",
       "    <tr>\n",
       "      <th>3035</th>\n",
       "      <td>Seattle Public Utilities</td>\n",
       "      <td>Dyson</td>\n",
       "      <td>Aaron</td>\n",
       "      <td>Drainage&amp;Wstwtr Coll Wkr CI</td>\n",
       "      <td>37.00</td>\n",
       "    </tr>\n",
       "  </tbody>\n",
       "</table>\n",
       "</div>"
      ],
      "text/plain": [
       "                           department last_name first_name  \\\n",
       "7293               Parks & Recreation   Melashu    Dagmawi   \n",
       "4150   Seattle Dept of Transportation    Greene     Shayne   \n",
       "11209               Police Department   Verhaar      Peter   \n",
       "7771                Police Department    Murphy     Oliver   \n",
       "3035         Seattle Public Utilities     Dyson      Aaron   \n",
       "\n",
       "                         job_title  hourly_rate  \n",
       "7293                    Res Aide *        22.07  \n",
       "4150    Signal Elctn,Journey-Level        53.02  \n",
       "11209                Pol Sgt-Patrl        70.92  \n",
       "7771                  Pol Ofcr-BWV        47.69  \n",
       "3035   Drainage&Wstwtr Coll Wkr CI        37.00  "
      ]
     },
     "execution_count": 3,
     "metadata": {},
     "output_type": "execute_result"
    }
   ],
   "source": [
    "#your code here\n",
    "data = pd.read_csv('data/data.csv', index_col=0)\n",
    "data.sample(5)"
   ]
  },
  {
   "cell_type": "code",
   "execution_count": 4,
   "metadata": {},
   "outputs": [
    {
     "name": "stdout",
     "output_type": "stream",
     "text": [
      "<class 'pandas.core.frame.DataFrame'>\n",
      "Int64Index: 12143 entries, 0 to 12142\n",
      "Data columns (total 5 columns):\n",
      " #   Column       Non-Null Count  Dtype  \n",
      "---  ------       --------------  -----  \n",
      " 0   department   12143 non-null  object \n",
      " 1   last_name    12143 non-null  object \n",
      " 2   first_name   12143 non-null  object \n",
      " 3   job_title    12143 non-null  object \n",
      " 4   hourly_rate  12143 non-null  float64\n",
      "dtypes: float64(1), object(4)\n",
      "memory usage: 569.2+ KB\n"
     ]
    }
   ],
   "source": [
    "data.info()"
   ]
  },
  {
   "cell_type": "code",
   "execution_count": 5,
   "metadata": {},
   "outputs": [
    {
     "data": {
      "text/html": [
       "<div>\n",
       "<style scoped>\n",
       "    .dataframe tbody tr th:only-of-type {\n",
       "        vertical-align: middle;\n",
       "    }\n",
       "\n",
       "    .dataframe tbody tr th {\n",
       "        vertical-align: top;\n",
       "    }\n",
       "\n",
       "    .dataframe thead th {\n",
       "        text-align: right;\n",
       "    }\n",
       "</style>\n",
       "<table border=\"1\" class=\"dataframe\">\n",
       "  <thead>\n",
       "    <tr style=\"text-align: right;\">\n",
       "      <th></th>\n",
       "      <th>hourly_rate</th>\n",
       "    </tr>\n",
       "  </thead>\n",
       "  <tbody>\n",
       "    <tr>\n",
       "      <th>count</th>\n",
       "      <td>1074.000000</td>\n",
       "    </tr>\n",
       "    <tr>\n",
       "      <th>mean</th>\n",
       "      <td>45.266119</td>\n",
       "    </tr>\n",
       "    <tr>\n",
       "      <th>std</th>\n",
       "      <td>16.162342</td>\n",
       "    </tr>\n",
       "    <tr>\n",
       "      <th>min</th>\n",
       "      <td>5.530000</td>\n",
       "    </tr>\n",
       "    <tr>\n",
       "      <th>25%</th>\n",
       "      <td>33.680000</td>\n",
       "    </tr>\n",
       "    <tr>\n",
       "      <th>50%</th>\n",
       "      <td>45.005000</td>\n",
       "    </tr>\n",
       "    <tr>\n",
       "      <th>75%</th>\n",
       "      <td>56.001750</td>\n",
       "    </tr>\n",
       "    <tr>\n",
       "      <th>max</th>\n",
       "      <td>140.870000</td>\n",
       "    </tr>\n",
       "  </tbody>\n",
       "</table>\n",
       "</div>"
      ],
      "text/plain": [
       "       hourly_rate\n",
       "count  1074.000000\n",
       "mean     45.266119\n",
       "std      16.162342\n",
       "min       5.530000\n",
       "25%      33.680000\n",
       "50%      45.005000\n",
       "75%      56.001750\n",
       "max     140.870000"
      ]
     },
     "execution_count": 5,
     "metadata": {},
     "output_type": "execute_result"
    }
   ],
   "source": [
    "begins_with_b = data[data['last_name'].str.startswith('B')]\n",
    "begins_with_b.describe()"
   ]
  },
  {
   "cell_type": "markdown",
   "metadata": {},
   "source": [
    "## The Problem\n",
    "\n",
    "### Is the `hourly_rate` of people whose last name begins with 'B' significantly different than the `hourly_rate` of the Seattle employees as a whole?\n",
    "\n",
    "#### Let's mimic a data analysis scenario where we have aggregated info about:\n",
    "\n",
    "- the mean of `hourly_rate` for all Seattle employees\n",
    "\n",
    "- the std of `hourly_rate` for same\n",
    "\n",
    "but we have to sample to find more-granular data about people whose last name begins with 'B'\n",
    "\n",
    "---\n",
    "\n",
    "### Hypothesis Generation\n",
    "\n",
    "What are the null and alternative hypotheses?"
   ]
  },
  {
   "cell_type": "markdown",
   "metadata": {},
   "source": [
    "#your answer here\n",
    "- Null: There's no difference in hourly rate for people who's last name begins with 'B'\n",
    "- Alt: Hourly rate of people with the last name that starts with B is different than other employees"
   ]
  },
  {
   "cell_type": "markdown",
   "metadata": {},
   "source": [
    "### Confidence Level Selection\n",
    "\n",
    "#### Provide the following answers about the next steps of our analysis\n",
    "\n",
    "- What is our test statistic?  (IOW: we are going to make a calculation and see how \"extreme\" that calculation is.  What specific calculation are we going to make?)  \n",
    "\n",
    "- Why are we using *this* statistic as opposed to a different one?\n",
    "\n",
    "- Are we running an upper, lower, or two-sided test?  Why? "
   ]
  },
  {
   "cell_type": "markdown",
   "metadata": {},
   "source": [
    "#your answer here\n",
    "- z test - since we have a lot of data points > 30\n",
    "- we have the population std\n",
    "- means of our sample population's hourly rate\n",
    "- two sided test looking at higher or lower so two sided z test"
   ]
  },
  {
   "cell_type": "code",
   "execution_count": 6,
   "metadata": {},
   "outputs": [
    {
     "name": "stdout",
     "output_type": "stream",
     "text": [
      "mean: 45.30003560075764\n",
      "std: 15.714622992377924\n"
     ]
    }
   ],
   "source": [
    "total_mean = data['hourly_rate'].mean()\n",
    "total_std = data['hourly_rate'].std()\n",
    "\n",
    "print('mean:', total_mean)\n",
    "print('std:', total_std)"
   ]
  },
  {
   "cell_type": "markdown",
   "metadata": {},
   "source": [
    "#### We'll use an alpha of .05 as the cutoff for significance\n",
    "\n",
    "#### Using that value of alpha, what is the value of the critical test statistic(s) we will compare our calculated test statistic against?"
   ]
  },
  {
   "cell_type": "code",
   "execution_count": 7,
   "metadata": {},
   "outputs": [],
   "source": [
    "# your code here\n",
    "# Hint: use either scipy.stats or google a z-table.\n",
    "from scipy import stats"
   ]
  },
  {
   "cell_type": "code",
   "execution_count": 8,
   "metadata": {},
   "outputs": [
    {
     "data": {
      "text/plain": [
       "0.025"
      ]
     },
     "execution_count": 8,
     "metadata": {},
     "output_type": "execute_result"
    }
   ],
   "source": [
    ".05/2 #because its a two tailed test if 1 tailed test only use .05 depending on the right or left tail"
   ]
  },
  {
   "cell_type": "code",
   "execution_count": 89,
   "metadata": {},
   "outputs": [
    {
     "data": {
      "text/plain": [
       "-1.9599639845400545"
      ]
     },
     "execution_count": 89,
     "metadata": {},
     "output_type": "execute_result"
    }
   ],
   "source": [
    "stats.norm.ppf(.025) #critical z score left end"
   ]
  },
  {
   "cell_type": "code",
   "execution_count": 10,
   "metadata": {},
   "outputs": [
    {
     "data": {
      "text/plain": [
       "1.959963984540054"
      ]
     },
     "execution_count": 10,
     "metadata": {},
     "output_type": "execute_result"
    }
   ],
   "source": [
    "stats.norm.ppf(.975) #critical Z score right end"
   ]
  },
  {
   "cell_type": "markdown",
   "metadata": {},
   "source": [
    "# Checkpoint 1"
   ]
  },
  {
   "cell_type": "markdown",
   "metadata": {},
   "source": [
    "Take # `20 Minutes` to complete the remainder of the exercise"
   ]
  },
  {
   "cell_type": "markdown",
   "metadata": {},
   "source": [
    "#### Make the following calculations\n",
    "\n",
    "- Store a random sample of 100 employees whose last name starts with 'B' in the variable `b_last_sample`\n",
    "    - use `random_state=33` so that we all get the same 100 random employees\n",
    "\n",
    "\n",
    "- Store that sample's mean of `hourly_rate` as `b_last_sample_mean`\n",
    "\n",
    "\n",
    "- Store the sample size as `sample_size`\n",
    "    - use a calculation, don't hard code it\n",
    "\n",
    "- Store the population mean of `hourly_rate` as `pop_mean`\n",
    "\n",
    "- Store the population std of `hourly_rate` as `pop_std`"
   ]
  },
  {
   "cell_type": "code",
   "execution_count": 60,
   "metadata": {},
   "outputs": [
    {
     "data": {
      "text/html": [
       "<div>\n",
       "<style scoped>\n",
       "    .dataframe tbody tr th:only-of-type {\n",
       "        vertical-align: middle;\n",
       "    }\n",
       "\n",
       "    .dataframe tbody tr th {\n",
       "        vertical-align: top;\n",
       "    }\n",
       "\n",
       "    .dataframe thead th {\n",
       "        text-align: right;\n",
       "    }\n",
       "</style>\n",
       "<table border=\"1\" class=\"dataframe\">\n",
       "  <thead>\n",
       "    <tr style=\"text-align: right;\">\n",
       "      <th></th>\n",
       "      <th>department</th>\n",
       "      <th>last_name</th>\n",
       "      <th>first_name</th>\n",
       "      <th>job_title</th>\n",
       "      <th>hourly_rate</th>\n",
       "    </tr>\n",
       "  </thead>\n",
       "  <tbody>\n",
       "    <tr>\n",
       "      <th>821</th>\n",
       "      <td>Information Technology</td>\n",
       "      <td>Behrend</td>\n",
       "      <td>Dennis</td>\n",
       "      <td>Cooperative Intern *</td>\n",
       "      <td>17.84</td>\n",
       "    </tr>\n",
       "    <tr>\n",
       "      <th>892</th>\n",
       "      <td>Fire Department</td>\n",
       "      <td>Benzschawel</td>\n",
       "      <td>Nicholas</td>\n",
       "      <td>Fireftr-Ap Drvr-90.46</td>\n",
       "      <td>49.38</td>\n",
       "    </tr>\n",
       "    <tr>\n",
       "      <th>1140</th>\n",
       "      <td>Parks &amp; Recreation</td>\n",
       "      <td>Borden</td>\n",
       "      <td>Christopher</td>\n",
       "      <td>Tennis Instructor *</td>\n",
       "      <td>23.79</td>\n",
       "    </tr>\n",
       "    <tr>\n",
       "      <th>1151</th>\n",
       "      <td>Parks &amp; Recreation</td>\n",
       "      <td>Borromeo</td>\n",
       "      <td>Richard</td>\n",
       "      <td>Maint Laborer</td>\n",
       "      <td>28.11</td>\n",
       "    </tr>\n",
       "    <tr>\n",
       "      <th>1120</th>\n",
       "      <td>Parks &amp; Recreation</td>\n",
       "      <td>Boney</td>\n",
       "      <td>Stephen</td>\n",
       "      <td>Rec Leader</td>\n",
       "      <td>25.22</td>\n",
       "    </tr>\n",
       "    <tr>\n",
       "      <th>...</th>\n",
       "      <td>...</td>\n",
       "      <td>...</td>\n",
       "      <td>...</td>\n",
       "      <td>...</td>\n",
       "      <td>...</td>\n",
       "    </tr>\n",
       "    <tr>\n",
       "      <th>1534</th>\n",
       "      <td>Seattle Public Utilities</td>\n",
       "      <td>Burton</td>\n",
       "      <td>Karl</td>\n",
       "      <td>Envrnmtl Anlyst,Sr</td>\n",
       "      <td>53.62</td>\n",
       "    </tr>\n",
       "    <tr>\n",
       "      <th>1351</th>\n",
       "      <td>Parks &amp; Recreation</td>\n",
       "      <td>Brown</td>\n",
       "      <td>Courtney</td>\n",
       "      <td>Manager2,Parks&amp;Rec</td>\n",
       "      <td>56.66</td>\n",
       "    </tr>\n",
       "    <tr>\n",
       "      <th>1064</th>\n",
       "      <td>Police Department</td>\n",
       "      <td>Board</td>\n",
       "      <td>Kasey</td>\n",
       "      <td>Pol Ofcr-BWV</td>\n",
       "      <td>44.01</td>\n",
       "    </tr>\n",
       "    <tr>\n",
       "      <th>1507</th>\n",
       "      <td>Fire Department</td>\n",
       "      <td>Burkhardt</td>\n",
       "      <td>James</td>\n",
       "      <td>Fireftr-90.46 Hrs</td>\n",
       "      <td>45.94</td>\n",
       "    </tr>\n",
       "    <tr>\n",
       "      <th>945</th>\n",
       "      <td>Police Department</td>\n",
       "      <td>Besaw</td>\n",
       "      <td>Robert</td>\n",
       "      <td>Pol Ofcr-Patrl</td>\n",
       "      <td>61.63</td>\n",
       "    </tr>\n",
       "  </tbody>\n",
       "</table>\n",
       "<p>100 rows × 5 columns</p>\n",
       "</div>"
      ],
      "text/plain": [
       "                    department    last_name   first_name  \\\n",
       "821     Information Technology      Behrend       Dennis   \n",
       "892            Fire Department  Benzschawel     Nicholas   \n",
       "1140        Parks & Recreation       Borden  Christopher   \n",
       "1151        Parks & Recreation     Borromeo      Richard   \n",
       "1120        Parks & Recreation        Boney      Stephen   \n",
       "...                        ...          ...          ...   \n",
       "1534  Seattle Public Utilities       Burton         Karl   \n",
       "1351        Parks & Recreation        Brown     Courtney   \n",
       "1064         Police Department        Board        Kasey   \n",
       "1507           Fire Department    Burkhardt        James   \n",
       "945          Police Department        Besaw       Robert   \n",
       "\n",
       "                  job_title  hourly_rate  \n",
       "821    Cooperative Intern *        17.84  \n",
       "892   Fireftr-Ap Drvr-90.46        49.38  \n",
       "1140    Tennis Instructor *        23.79  \n",
       "1151          Maint Laborer        28.11  \n",
       "1120             Rec Leader        25.22  \n",
       "...                     ...          ...  \n",
       "1534     Envrnmtl Anlyst,Sr        53.62  \n",
       "1351     Manager2,Parks&Rec        56.66  \n",
       "1064           Pol Ofcr-BWV        44.01  \n",
       "1507      Fireftr-90.46 Hrs        45.94  \n",
       "945          Pol Ofcr-Patrl        61.63  \n",
       "\n",
       "[100 rows x 5 columns]"
      ]
     },
     "execution_count": 60,
     "metadata": {},
     "output_type": "execute_result"
    }
   ],
   "source": [
    "#you might create other variables than this, but these\n",
    "#are provided for your convenience \n",
    "\n",
    "b_last_sample = begins_with_b.sample(100, random_state=33)\n",
    "b_last_sample"
   ]
  },
  {
   "cell_type": "code",
   "execution_count": 62,
   "metadata": {},
   "outputs": [
    {
     "data": {
      "text/plain": [
       "46.03"
      ]
     },
     "execution_count": 62,
     "metadata": {},
     "output_type": "execute_result"
    }
   ],
   "source": [
    "b_last_sample_mean = b_last_sample['hourly_rate'].mean()\n",
    "#b_last_sample_mean = round(b_last_sample_mean, ndigits=2)\n",
    "b_last_sample_mean = round(b_last_sample_mean, ndigits=2)\n",
    "b_last_sample_mean"
   ]
  },
  {
   "cell_type": "code",
   "execution_count": 63,
   "metadata": {},
   "outputs": [],
   "source": [
    "sample_size = 100"
   ]
  },
  {
   "cell_type": "code",
   "execution_count": 71,
   "metadata": {},
   "outputs": [
    {
     "data": {
      "text/plain": [
       "45.3"
      ]
     },
     "execution_count": 71,
     "metadata": {},
     "output_type": "execute_result"
    }
   ],
   "source": [
    "pop_mean = data['hourly_rate'].mean()\n",
    "pop_mean = round(pop_mean, ndigits=2)\n",
    "pop_mean"
   ]
  },
  {
   "cell_type": "code",
   "execution_count": 72,
   "metadata": {},
   "outputs": [
    {
     "data": {
      "text/plain": [
       "15.714622992377924"
      ]
     },
     "execution_count": 72,
     "metadata": {},
     "output_type": "execute_result"
    }
   ],
   "source": [
    "pop_std = data['hourly_rate'].std()\n",
    "pop_std"
   ]
  },
  {
   "cell_type": "code",
   "execution_count": 73,
   "metadata": {},
   "outputs": [
    {
     "data": {
      "text/plain": [
       "'Try again'"
      ]
     },
     "execution_count": 73,
     "metadata": {},
     "output_type": "execute_result"
    }
   ],
   "source": [
    "#run this cell to check b_last_sample_mean\n",
    "run_test(b_last_sample_mean, 'b_last_sample_mean')"
   ]
  },
  {
   "cell_type": "code",
   "execution_count": 74,
   "metadata": {},
   "outputs": [
    {
     "data": {
      "text/plain": [
       "'Try again'"
      ]
     },
     "execution_count": 74,
     "metadata": {},
     "output_type": "execute_result"
    }
   ],
   "source": [
    "#run this cell to check pop_mean\n",
    "run_test(pop_mean, 'pop_mean')"
   ]
  },
  {
   "cell_type": "code",
   "execution_count": 75,
   "metadata": {},
   "outputs": [],
   "source": [
    "#run this cell to check pop_std\n",
    "\n",
    "import pickle\n",
    "with open('test_objects/pop_std.pkl', 'rb') as read_file:\n",
    "    sol_std = pickle.load(read_file)\n",
    "    \n",
    "assert np.isclose(sol_std, pop_std)"
   ]
  },
  {
   "cell_type": "code",
   "execution_count": 76,
   "metadata": {},
   "outputs": [
    {
     "data": {
      "text/plain": [
       "'Hey, you did it.  Good job.'"
      ]
     },
     "execution_count": 76,
     "metadata": {},
     "output_type": "execute_result"
    }
   ],
   "source": [
    "#run this cell to check sample_size\n",
    "run_test(sample_size, 'sample_size')"
   ]
  },
  {
   "cell_type": "markdown",
   "metadata": {},
   "source": [
    "### Test statistic calculation\n",
    "\n",
    "- Calculate the specific test statistic you determined was appropriate above\n",
    "\n",
    "- Store it as `test_stat`"
   ]
  },
  {
   "cell_type": "code",
   "execution_count": 87,
   "metadata": {},
   "outputs": [
    {
     "data": {
      "text/plain": [
       "0.4645354841500661"
      ]
     },
     "execution_count": 87,
     "metadata": {},
     "output_type": "execute_result"
    }
   ],
   "source": [
    "#your code here\n",
    "test_stat = (b_last_sample_mean - pop_mean) / (pop_std / 10)\n",
    "test_stat #z stat compared to tehe critical scores up above"
   ]
  },
  {
   "cell_type": "code",
   "execution_count": 82,
   "metadata": {},
   "outputs": [
    {
     "ename": "AssertionError",
     "evalue": "",
     "output_type": "error",
     "traceback": [
      "\u001b[1;31m---------------------------------------------------------------------------\u001b[0m",
      "\u001b[1;31mAssertionError\u001b[0m                            Traceback (most recent call last)",
      "\u001b[1;32m<ipython-input-82-77c753241764>\u001b[0m in \u001b[0;36m<module>\u001b[1;34m\u001b[0m\n\u001b[0;32m      5\u001b[0m     \u001b[0msol_stat\u001b[0m \u001b[1;33m=\u001b[0m \u001b[0mpickle\u001b[0m\u001b[1;33m.\u001b[0m\u001b[0mload\u001b[0m\u001b[1;33m(\u001b[0m\u001b[0mread_file\u001b[0m\u001b[1;33m)\u001b[0m\u001b[1;33m\u001b[0m\u001b[1;33m\u001b[0m\u001b[0m\n\u001b[0;32m      6\u001b[0m \u001b[1;33m\u001b[0m\u001b[0m\n\u001b[1;32m----> 7\u001b[1;33m \u001b[1;32massert\u001b[0m \u001b[0mnp\u001b[0m\u001b[1;33m.\u001b[0m\u001b[0misclose\u001b[0m\u001b[1;33m(\u001b[0m\u001b[0mtest_stat\u001b[0m\u001b[1;33m,\u001b[0m \u001b[0msol_stat\u001b[0m\u001b[1;33m)\u001b[0m\u001b[1;33m\u001b[0m\u001b[1;33m\u001b[0m\u001b[0m\n\u001b[0m",
      "\u001b[1;31mAssertionError\u001b[0m: "
     ]
    }
   ],
   "source": [
    "#run this cell to check test_stat\n",
    "\n",
    "import pickle\n",
    "with open('test_objects/test_stat.pkl', 'rb') as read_file:\n",
    "    sol_stat = pickle.load(read_file)\n",
    "    \n",
    "assert np.isclose(test_stat, sol_stat)"
   ]
  },
  {
   "cell_type": "markdown",
   "metadata": {},
   "source": [
    "## The MOMENT OF TRUTH\n",
    "\n",
    "#### Do we have evidence indicating we should reject the null hypothesis at alpha=.05?  Why or why not?\n",
    "\n",
    "#### Your final sentence should write out your full conclusion w/o referencing \"null hypothesis\""
   ]
  },
  {
   "cell_type": "code",
   "execution_count": 85,
   "metadata": {},
   "outputs": [
    {
     "data": {
      "text/plain": [
       "'We cannot reject our null hypothesis as our z test statistic is within bounds of our z critical values'"
      ]
     },
     "execution_count": 85,
     "metadata": {},
     "output_type": "execute_result"
    }
   ],
   "source": [
    "'''We cannot reject our null hypothesis as our z test statistic is within bounds of our z critical values'''"
   ]
  },
  {
   "cell_type": "code",
   "execution_count": 86,
   "metadata": {},
   "outputs": [
    {
     "data": {
      "text/plain": [
       "0.6788679285878809"
      ]
     },
     "execution_count": 86,
     "metadata": {},
     "output_type": "execute_result"
    }
   ],
   "source": [
    "stats.norm.cdf(test_stat) # pvalue"
   ]
  },
  {
   "cell_type": "code",
   "execution_count": 92,
   "metadata": {},
   "outputs": [
    {
     "name": "stdout",
     "output_type": "stream",
     "text": [
      "Failed to reject null since our value is not more extreme than our critical value\n"
     ]
    }
   ],
   "source": [
    "print('Failed to reject null since our value is not more extreme than our critical value')"
   ]
  },
  {
   "cell_type": "code",
   "execution_count": null,
   "metadata": {},
   "outputs": [],
   "source": []
  }
 ],
 "metadata": {
  "kernelspec": {
   "display_name": "Python 3",
   "language": "python",
   "name": "python3"
  },
  "language_info": {
   "codemirror_mode": {
    "name": "ipython",
    "version": 3
   },
   "file_extension": ".py",
   "mimetype": "text/x-python",
   "name": "python",
   "nbconvert_exporter": "python",
   "pygments_lexer": "ipython3",
   "version": "3.8.5"
  },
  "toc": {
   "base_numbering": 1,
   "nav_menu": {},
   "number_sections": false,
   "sideBar": true,
   "skip_h1_title": true,
   "title_cell": "Table of Contents",
   "title_sidebar": "Contents",
   "toc_cell": false,
   "toc_position": {},
   "toc_section_display": true,
   "toc_window_display": false
  },
  "varInspector": {
   "cols": {
    "lenName": 16,
    "lenType": 16,
    "lenVar": 40
   },
   "kernels_config": {
    "python": {
     "delete_cmd_postfix": "",
     "delete_cmd_prefix": "del ",
     "library": "var_list.py",
     "varRefreshCmd": "print(var_dic_list())"
    },
    "r": {
     "delete_cmd_postfix": ") ",
     "delete_cmd_prefix": "rm(",
     "library": "var_list.r",
     "varRefreshCmd": "cat(var_dic_list()) "
    }
   },
   "types_to_exclude": [
    "module",
    "function",
    "builtin_function_or_method",
    "instance",
    "_Feature"
   ],
   "window_display": false
  }
 },
 "nbformat": 4,
 "nbformat_minor": 4
}
