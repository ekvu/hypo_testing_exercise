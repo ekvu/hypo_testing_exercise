{
 "cells": [
  {
   "cell_type": "markdown",
   "metadata": {},
   "source": [
    "# Hypothesis Testing Exercise"
   ]
  },
  {
   "cell_type": "markdown",
   "metadata": {},
   "source": [
    "In pairs, take 15 minutes to work through Checkpoint 1"
   ]
  },
  {
   "cell_type": "markdown",
   "metadata": {},
   "source": [
    "## Imports"
   ]
  },
  {
   "cell_type": "code",
   "execution_count": null,
   "metadata": {},
   "outputs": [],
   "source": [
    "#data manip\n",
    "import pandas as pd\n",
    "import numpy as np\n",
    "\n",
    "#data calc\n",
    "from scipy import stats\n",
    "\n",
    "#used for tests\n",
    "from test_background import pkl_dump, run_test_dict, run_test\n",
    "from test_background import load_test_dict as load"
   ]
  },
  {
   "cell_type": "markdown",
   "metadata": {},
   "source": [
    "#### Read in `data.csv` from `data` and print a random sample of five rows.  (Looking at a random sample of five rows instead of `df.head()` avoids the problem of getting an impression of a dataset that is sorted in some way)\n"
   ]
  },
  {
   "cell_type": "code",
   "execution_count": null,
   "metadata": {},
   "outputs": [],
   "source": [
    "#your code here\n"
   ]
  },
  {
   "cell_type": "markdown",
   "metadata": {},
   "source": [
    "## The Problem\n",
    "\n",
    "### Is the `hourly_rate` of people whose last name begins with 'B' significantly different than the `hourly_rate` of the Seattle employees as a whole?\n",
    "\n",
    "#### Let's mimic a data analysis scenario where we have aggregated info about:\n",
    "\n",
    "- the mean of `hourly_rate` for all Seattle employees\n",
    "\n",
    "- the std of `hourly_rate` for same\n",
    "\n",
    "but we have to sample to find more-granular data about people whose last name begins with 'B'\n",
    "\n",
    "---\n",
    "\n",
    "### Hypothesis Generation\n",
    "\n",
    "What are the null and alternative hypotheses?"
   ]
  },
  {
   "cell_type": "markdown",
   "metadata": {},
   "source": [
    "#your answer here\n"
   ]
  },
  {
   "cell_type": "markdown",
   "metadata": {},
   "source": [
    "### Confidence Level Selection\n",
    "\n",
    "#### Provide the following answers about the next steps of our analysis\n",
    "\n",
    "- What is our test statistic?  (IOW: we are going to make a calculation and see how \"extreme\" that calculation is.  What specific calculation are we going to make?)  \n",
    "\n",
    "- Why are we using *this* statistic as opposed to a different one?\n",
    "\n",
    "- Are we running an upper, lower, or two-sided test?  Why? "
   ]
  },
  {
   "cell_type": "markdown",
   "metadata": {},
   "source": [
    "#your answer here\n"
   ]
  },
  {
   "cell_type": "code",
   "execution_count": null,
   "metadata": {},
   "outputs": [],
   "source": []
  },
  {
   "cell_type": "markdown",
   "metadata": {},
   "source": [
    "#### We'll use an alpha of .05 as the cutoff for significance\n",
    "\n",
    "#### Using that value of alpha, what is the value of the critical test statistic(s) we will compare our calculated test statistic against?"
   ]
  },
  {
   "cell_type": "code",
   "execution_count": null,
   "metadata": {},
   "outputs": [],
   "source": [
    "# your code here\n",
    "# Hint: use either scipy.stats or google a z-table.\n",
    "from scipy import stats\n"
   ]
  },
  {
   "cell_type": "markdown",
   "metadata": {},
   "source": [
    "# Checkpoint 1"
   ]
  },
  {
   "cell_type": "markdown",
   "metadata": {},
   "source": [
    "Take # `20 Minutes` to complete the remainder of the exercise"
   ]
  },
  {
   "cell_type": "markdown",
   "metadata": {},
   "source": [
    "#### Make the following calculations\n",
    "\n",
    "- Store a random sample of 100 employees whose last name starts with 'B' in the variable `b_last_sample`\n",
    "    - use `random_state=33` so that we all get the same 100 random employees\n",
    "\n",
    "\n",
    "- Store that sample's mean of `hourly_rate` as `b_last_sample_mean`\n",
    "\n",
    "\n",
    "- Store the sample size as `sample_size`\n",
    "    - use a calculation, don't hard code it\n",
    "\n",
    "- Store the population mean of `hourly_rate` as `pop_mean`\n",
    "\n",
    "- Store the population std of `hourly_rate` as `pop_std`"
   ]
  },
  {
   "cell_type": "code",
   "execution_count": null,
   "metadata": {},
   "outputs": [],
   "source": [
    "\n",
    "#you might create other variables than this, but these\n",
    "#are provided for your convenience \n",
    "\n",
    "b_last_sample = None\n",
    "\n",
    "b_last_sample_mean = None\n",
    "\n",
    "sample_size = None\n",
    "\n",
    "pop_mean = None\n",
    "\n",
    "pop_std = None"
   ]
  },
  {
   "cell_type": "code",
   "execution_count": null,
   "metadata": {},
   "outputs": [],
   "source": [
    "#run this cell to check b_last_sample_mean\n",
    "run_test(b_last_sample_mean, 'b_last_sample_mean')"
   ]
  },
  {
   "cell_type": "code",
   "execution_count": null,
   "metadata": {},
   "outputs": [],
   "source": [
    "#run this cell to check pop_mean\n",
    "run_test(pop_mean, 'pop_mean')"
   ]
  },
  {
   "cell_type": "code",
   "execution_count": null,
   "metadata": {},
   "outputs": [],
   "source": [
    "#run this cell to check pop_std\n",
    "\n",
    "import pickle\n",
    "with open('test_objects/pop_std.pkl', 'rb') as read_file:\n",
    "    sol_std = pickle.load(read_file)\n",
    "    \n",
    "assert np.isclose(sol_std, pop_std)"
   ]
  },
  {
   "cell_type": "code",
   "execution_count": null,
   "metadata": {},
   "outputs": [],
   "source": [
    "#run this cell to check sample_size\n",
    "run_test(sample_size, 'sample_size')"
   ]
  },
  {
   "cell_type": "markdown",
   "metadata": {},
   "source": [
    "### Test statistic calculation\n",
    "\n",
    "- Calculate the specific test statistic you determined was appropriate above\n",
    "\n",
    "- Store it as `test_stat`"
   ]
  },
  {
   "cell_type": "code",
   "execution_count": null,
   "metadata": {},
   "outputs": [],
   "source": [
    "#your code here\n"
   ]
  },
  {
   "cell_type": "code",
   "execution_count": null,
   "metadata": {},
   "outputs": [],
   "source": [
    "#run this cell to check test_stat\n",
    "\n",
    "import pickle\n",
    "with open('test_objects/test_stat.pkl', 'rb') as read_file:\n",
    "    sol_stat = pickle.load(read_file)\n",
    "    \n",
    "assert np.isclose(test_stat, sol_stat)"
   ]
  },
  {
   "cell_type": "markdown",
   "metadata": {},
   "source": [
    "## The MOMENT OF TRUTH\n",
    "\n",
    "#### Do we have evidence indicating we should reject the null hypothesis at alpha=.05?  Why or why not?\n",
    "\n",
    "#### Your final sentence should write out your full conclusion w/o referencing \"null hypothesis\""
   ]
  },
  {
   "cell_type": "code",
   "execution_count": null,
   "metadata": {},
   "outputs": [],
   "source": [
    "'''# your answer here'''"
   ]
  },
  {
   "cell_type": "code",
   "execution_count": null,
   "metadata": {},
   "outputs": [],
   "source": []
  }
 ],
 "metadata": {
  "kernelspec": {
   "display_name": "Python 3",
   "language": "python",
   "name": "python3"
  },
  "language_info": {
   "codemirror_mode": {
    "name": "ipython",
    "version": 3
   },
   "file_extension": ".py",
   "mimetype": "text/x-python",
   "name": "python",
   "nbconvert_exporter": "python",
   "pygments_lexer": "ipython3",
   "version": "3.7.3"
  },
  "toc": {
   "base_numbering": 1,
   "nav_menu": {},
   "number_sections": false,
   "sideBar": true,
   "skip_h1_title": true,
   "title_cell": "Table of Contents",
   "title_sidebar": "Contents",
   "toc_cell": false,
   "toc_position": {},
   "toc_section_display": true,
   "toc_window_display": false
  },
  "varInspector": {
   "cols": {
    "lenName": 16,
    "lenType": 16,
    "lenVar": 40
   },
   "kernels_config": {
    "python": {
     "delete_cmd_postfix": "",
     "delete_cmd_prefix": "del ",
     "library": "var_list.py",
     "varRefreshCmd": "print(var_dic_list())"
    },
    "r": {
     "delete_cmd_postfix": ") ",
     "delete_cmd_prefix": "rm(",
     "library": "var_list.r",
     "varRefreshCmd": "cat(var_dic_list()) "
    }
   },
   "types_to_exclude": [
    "module",
    "function",
    "builtin_function_or_method",
    "instance",
    "_Feature"
   ],
   "window_display": false
  }
 },
 "nbformat": 4,
 "nbformat_minor": 4
}
